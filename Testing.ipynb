{
 "cells": [
  {
   "cell_type": "code",
   "execution_count": 1,
   "id": "d0db97b1",
   "metadata": {},
   "outputs": [
    {
     "name": "stderr",
     "output_type": "stream",
     "text": [
      "WARNING:absl:Compiled the loaded model, but the compiled metrics have yet to be built. `model.compile_metrics` will be empty until you train or evaluate the model.\n"
     ]
    },
    {
     "name": "stdout",
     "output_type": "stream",
     "text": [
      "Phishing Probability: 0.0088\n",
      "Predicted Label: Legitimate\n"
     ]
    }
   ],
   "source": [
    "from tensorflow.keras.models import load_model\n",
    "from tensorflow.keras.preprocessing.sequence import pad_sequences\n",
    "import pickle\n",
    "import json\n",
    "import re\n",
    "\n",
    "# Load model\n",
    "model = load_model(\"phishing_model.h5\")\n",
    "\n",
    "# Load tokenizer\n",
    "with open(\"tokenizer.pkl\", \"rb\") as f:\n",
    "    tokenizer = pickle.load(f)\n",
    "\n",
    "# Load max_seq_length\n",
    "with open(\"config.json\", \"r\") as f:\n",
    "    config = json.load(f)\n",
    "max_seq_length = config[\"max_seq_length\"]\n",
    "\n",
    "# Clean text function (same as before)\n",
    "def clean_text(text):\n",
    "    text = text.lower()\n",
    "    text = re.sub(r'<.*?>', '', text)\n",
    "    text = re.sub(r'[^a-z0-9\\s]', '', text)\n",
    "    text = re.sub(r'\\s+', ' ', text).strip()\n",
    "    return text\n",
    "\n",
    "# Sample email to test\n",
    "sample_email = \"\"\"\n",
    "Dear Students,\n",
    "\n",
    "The FYP-2 Final Evaluation is scheduled for Friday, June 13, 2025.\n",
    "\n",
    "Please find attached the FYP-2 Final Evaluation form along with the FYP-2 Evaluation Schedule for Spring 2025.\n",
    "\n",
    "You are required to bring the following on the day of your evaluation:\n",
    "\n",
    "A draft of your report, a plagiarism report duly signed by your supervisor and respective coordinators.\n",
    "Three (3) copies of the FYP-2 Final Evaluation form. \n",
    "Note\n",
    "Ensure you arrive on time for your evaluation.\n",
    "Formal dress code is mandatory.\n",
    "Follow the order of group evaluations as listed in the provided schedule.\n",
    "\n",
    "\n",
    "\n",
    "--\n",
    "Rabiya Ghafoor\n",
    "Lecturer\n",
    "Department of Software Engineering (DSE)\n",
    "\n",
    "Foundation University School of Science & Technology (FUSST),\n",
    "\n",
    "New Lalazar, Rawalpindi \n",
    "\n",
    "Ph: +92 -51-5151437  \n",
    "\n",
    "\n",
    " \"Please consider the Environment before printing this Email; SAVE PAPER - SAVE PLANET\"\n",
    "\n",
    "Note:\n",
    "This message (including any attachments) is confidential and may be privileged. If you have received it by mistake please notify the sender by return email and delete this message from your system. Any unauthorized use or dissemination of this message in whole or in part is strictly prohibited.\n",
    "\n",
    "To unsubscribe from this group and stop receiving emails from it, send an email to fusst.dse.batch2021+unsubscribe@fui.edu.pk.\n",
    "\"\"\"\n",
    "\n",
    "# Predict\n",
    "cleaned = clean_text(sample_email)\n",
    "seq = tokenizer.texts_to_sequences([cleaned])\n",
    "padded = pad_sequences(seq, maxlen=max_seq_length, padding='post')\n",
    "prediction = model.predict(padded, verbose=0)\n",
    "\n",
    "# Output result\n",
    "phishing_prob = prediction[0][0]\n",
    "label = \"Phishing\" if phishing_prob >= 0.5 else \"Legitimate\"\n",
    "print(f\"Phishing Probability: {phishing_prob:.4f}\")\n",
    "print(f\"Predicted Label: {label}\")\n"
   ]
  },
  {
   "cell_type": "code",
   "execution_count": null,
   "id": "b6004413",
   "metadata": {},
   "outputs": [],
   "source": []
  }
 ],
 "metadata": {
  "kernelspec": {
   "display_name": "Python 3",
   "language": "python",
   "name": "python3"
  },
  "language_info": {
   "codemirror_mode": {
    "name": "ipython",
    "version": 3
   },
   "file_extension": ".py",
   "mimetype": "text/x-python",
   "name": "python",
   "nbconvert_exporter": "python",
   "pygments_lexer": "ipython3",
   "version": "3.12.6"
  }
 },
 "nbformat": 4,
 "nbformat_minor": 5
}
