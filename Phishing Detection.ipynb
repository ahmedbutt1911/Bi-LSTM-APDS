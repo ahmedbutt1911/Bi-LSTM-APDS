{
 "cells": [
  {
   "cell_type": "code",
   "execution_count": 1,
   "id": "9c32be5c",
   "metadata": {},
   "outputs": [],
   "source": [
    "import pandas as pd\n",
    "import numpy as np\n",
    "import re\n",
    "import matplotlib.pyplot as plt\n",
    "from sklearn.model_selection import train_test_split\n",
    "from sklearn.metrics import classification_report, confusion_matrix\n",
    "from tensorflow.keras.preprocessing.text import Tokenizer\n",
    "from tensorflow.keras.preprocessing.sequence import pad_sequences\n",
    "from tensorflow.keras.models import Sequential\n",
    "from tensorflow.keras.layers import Embedding, Bidirectional, LSTM, Dense, Dropout\n",
    "from tensorflow.keras.optimizers import Adam"
   ]
  },
  {
   "cell_type": "code",
   "execution_count": 2,
   "id": "a9975dfc",
   "metadata": {},
   "outputs": [
    {
     "data": {
      "text/html": [
       "<div>\n",
       "<style scoped>\n",
       "    .dataframe tbody tr th:only-of-type {\n",
       "        vertical-align: middle;\n",
       "    }\n",
       "\n",
       "    .dataframe tbody tr th {\n",
       "        vertical-align: top;\n",
       "    }\n",
       "\n",
       "    .dataframe thead th {\n",
       "        text-align: right;\n",
       "    }\n",
       "</style>\n",
       "<table border=\"1\" class=\"dataframe\">\n",
       "  <thead>\n",
       "    <tr style=\"text-align: right;\">\n",
       "      <th></th>\n",
       "      <th>body</th>\n",
       "      <th>label</th>\n",
       "    </tr>\n",
       "  </thead>\n",
       "  <tbody>\n",
       "    <tr>\n",
       "      <th>80669</th>\n",
       "      <td>There seems to be an issue with your package. ...</td>\n",
       "      <td>0.0</td>\n",
       "    </tr>\n",
       "    <tr>\n",
       "      <th>80670</th>\n",
       "      <td>Join our beta test and get a chance to earn $5...</td>\n",
       "      <td>1.0</td>\n",
       "    </tr>\n",
       "    <tr>\n",
       "      <th>80671</th>\n",
       "      <td>Just a reminder about tomorrow's meeting where...</td>\n",
       "      <td>0.0</td>\n",
       "    </tr>\n",
       "    <tr>\n",
       "      <th>80672</th>\n",
       "      <td>Congratulations! Your secret shopping reward i...</td>\n",
       "      <td>1.0</td>\n",
       "    </tr>\n",
       "    <tr>\n",
       "      <th>80673</th>\n",
       "      <td>We wanted to inform you about some changes we'...</td>\n",
       "      <td>0.0</td>\n",
       "    </tr>\n",
       "  </tbody>\n",
       "</table>\n",
       "</div>"
      ],
      "text/plain": [
       "                                                    body  label\n",
       "80669  There seems to be an issue with your package. ...    0.0\n",
       "80670  Join our beta test and get a chance to earn $5...    1.0\n",
       "80671  Just a reminder about tomorrow's meeting where...    0.0\n",
       "80672  Congratulations! Your secret shopping reward i...    1.0\n",
       "80673  We wanted to inform you about some changes we'...    0.0"
      ]
     },
     "execution_count": 2,
     "metadata": {},
     "output_type": "execute_result"
    }
   ],
   "source": [
    "# Load the dataset\n",
    "df = pd.read_csv(\"EmailDataSet .csv\")\n",
    "\n",
    "df.tail()"
   ]
  },
  {
   "cell_type": "code",
   "execution_count": 9,
   "id": "2d68276c",
   "metadata": {},
   "outputs": [
    {
     "data": {
      "image/png": "[encoded data removed]",
      "text/plain": [
       "<Figure size 640x480 with 1 Axes>"
      ]
     },
     "metadata": {},
     "output_type": "display_data"
    }
   ],
   "source": [
    "import seaborn as sns\n",
    "sns.countplot(x='label', data=df)\n",
    "plt.title(\"Distribution of Email Labels (1)Spam and (0)Not Spam\")\n",
    "plt.show()"
   ]
  },
  {
   "cell_type": "code",
   "execution_count": 10,
   "id": "cff79e1d",
   "metadata": {},
   "outputs": [
    {
     "name": "stdout",
     "output_type": "stream",
     "text": [
      "label\n",
      "1.0    42451\n",
      "0.0    38164\n",
      "Name: count, dtype: int64\n"
     ]
    }
   ],
   "source": [
    "# Drop rows with missing labels\n",
    "df = df.dropna(subset=[\"label\"])\n",
    "print(df['label'].value_counts())"
   ]
  },
  {
   "cell_type": "code",
   "execution_count": 13,
   "id": "733b9798",
   "metadata": {},
   "outputs": [
    {
     "name": "stdout",
     "output_type": "stream",
     "text": [
      "0\n",
      "(80615, 2)\n"
     ]
    }
   ],
   "source": [
    "print(df.duplicated().sum())\n",
    "# Drop duplicates if any\n",
    "df.drop_duplicates(inplace=True)\n",
    "print(df.shape)"
   ]
  },
  {
   "cell_type": "code",
   "execution_count": null,
   "id": "9edf668b",
   "metadata": {},
   "outputs": [],
   "source": [
    "\n",
    "from nltk.corpus import stopwords\n",
    "from nltk.stem import PorterStemmer\n",
    "\n",
    "\n",
    "\n",
    "# Clean the email text with stopword removal and stemming\n",
    "def clean_text(text):\n",
    "    text = text.lower()\n",
    "    text = re.sub(r'<.*?>', '', text)\n",
    "    text = re.sub(r'[^a-z0-9\\s]', '', text)\n",
    "    text = re.sub(r'\\s+', ' ', text).strip()\n",
    "\n",
    "    # Remove stopwords and perform stemming (Reduces words to their root form)\n",
    "    ps = PorterStemmer()\n",
    "    sw = set(stopwords.words('english'))\n",
    "    tokens = word_tokenize(text)\n",
    "    tokens = [ps.stem(word) for word in tokens if word not in sw and len(word) > 1]\n",
    "\n",
    "    clean_text = ' '.join(tokens)\n",
    "    return clean_text\n",
    "\n",
    "df[\"clean_body\"] = df[\"body\"].apply(clean_text)\n",
    "\n",
    "# Character-level tokenization\n",
    "tokenizer = Tokenizer(char_level=True)\n",
    "tokenizer.fit_on_texts(df[\"clean_body\"])\n",
    "sequences = tokenizer.texts_to_sequences(df[\"clean_body\"])\n",
    "\n",
    "# Padding\n",
    "max_seq_length = max(len(seq) for seq in sequences)\n",
    "X = pad_sequences(sequences, maxlen=max_seq_length, padding='post')\n",
    "\n",
    "# Labels\n",
    "y = df[\"label\"].astype(int).values\n",
    "\n",
    "# Train/test split\n",
    "X_train, X_test, y_train, y_test = train_test_split(X, y, test_size=0.2, random_state=42)\n",
    "\n",
    "# Model parameters\n",
    "vocab_size = len(tokenizer.word_index) + 1  # +1 for padding token\n",
    "embedding_dim = 64\n"
   ]
  },
  {
   "cell_type": "code",
   "execution_count": null,
   "id": "3cb61935",
   "metadata": {},
   "outputs": [],
   "source": [
    "# Build model\n",
    "model = Sequential([\n",
    "    Embedding(input_dim=vocab_size, output_dim=embedding_dim),\n",
    "    Bidirectional(LSTM(64, return_sequences=False)), #final summary of the sequence, not the full sequence\n",
    "    Dropout(0.5),\n",
    "    Dense(64, activation='relu'),\n",
    "    Dropout(0.3),\n",
    "    Dense(1, activation='sigmoid')  # Binary classification\n",
    "])\n"
   ]
  },
  {
   "cell_type": "code",
   "execution_count": null,
   "id": "bf2f4d7b",
   "metadata": {},
   "outputs": [
    {
     "name": "stdout",
     "output_type": "stream",
     "text": [
      "Epoch 1/5\n",
      "\u001b[1m1008/1008\u001b[0m \u001b[32m━━━━━━━━━━━━━━━━━━━━\u001b[0m\u001b[37m\u001b[0m \u001b[1m803s\u001b[0m 790ms/step - accuracy: 0.8008 - loss: 0.4257 - val_accuracy: 0.9112 - val_loss: 0.2242\n",
      "Epoch 2/5\n",
      "\u001b[1m1008/1008\u001b[0m \u001b[32m━━━━━━━━━━━━━━━━━━━━\u001b[0m\u001b[37m\u001b[0m \u001b[1m801s\u001b[0m 795ms/step - accuracy: 0.9246 - loss: 0.1972 - val_accuracy: 0.9455 - val_loss: 0.1403\n",
      "Epoch 3/5\n",
      "\u001b[1m1008/1008\u001b[0m \u001b[32m━━━━━━━━━━━━━━━━━━━━\u001b[0m\u001b[37m\u001b[0m \u001b[1m843s\u001b[0m 837ms/step - accuracy: 0.9391 - loss: 0.1621 - val_accuracy: 0.9378 - val_loss: 0.1744\n",
      "Epoch 4/5\n",
      "\u001b[1m1008/1008\u001b[0m \u001b[32m━━━━━━━━━━━━━━━━━━━━\u001b[0m\u001b[37m\u001b[0m \u001b[1m922s\u001b[0m 896ms/step - accuracy: 0.9466 - loss: 0.1525 - val_accuracy: 0.9542 - val_loss: 0.1172\n",
      "Epoch 5/5\n",
      "\u001b[1m1008/1008\u001b[0m \u001b[32m━━━━━━━━━━━━━━━━━━━━\u001b[0m\u001b[37m\u001b[0m \u001b[1m958s\u001b[0m 949ms/step - accuracy: 0.9566 - loss: 0.1206 - val_accuracy: 0.9597 - val_loss: 0.1094\n"
     ]
    }
   ],
   "source": [
    "# Compile update w and b\n",
    "model.compile(optimizer=Adam(learning_rate=0.001),\n",
    "              loss='binary_crossentropy',\n",
    "              metrics=['accuracy'])\n",
    "\n",
    "# Train\n",
    "history = model.fit(X_train, y_train, epochs=5, batch_size=64, validation_data=(X_test, y_test))\n"
   ]
  },
  {
   "cell_type": "code",
   "execution_count": 7,
   "id": "de145d89",
   "metadata": {},
   "outputs": [
    {
     "name": "stdout",
     "output_type": "stream",
     "text": [
      "\u001b[1m504/504\u001b[0m \u001b[32m━━━━━━━━━━━━━━━━━━━━\u001b[0m\u001b[37m\u001b[0m \u001b[1m86s\u001b[0m 171ms/step - accuracy: 0.9592 - loss: 0.1057\n",
      "\n",
      "Test Accuracy: 0.96\n"
     ]
    }
   ],
   "source": [
    "loss, accuracy = model.evaluate(X_test, y_test)\n",
    "print(f'\\nTest Accuracy: {accuracy:.2f}')"
   ]
  },
  {
   "cell_type": "code",
   "execution_count": 8,
   "id": "8887eb4f",
   "metadata": {},
   "outputs": [
    {
     "name": "stdout",
     "output_type": "stream",
     "text": [
      "\u001b[1m504/504\u001b[0m \u001b[32m━━━━━━━━━━━━━━━━━━━━\u001b[0m\u001b[37m\u001b[0m \u001b[1m89s\u001b[0m 174ms/step\n",
      "\n",
      "Confusion Matrix:\n",
      "[[7446  136]\n",
      " [ 514 8027]]\n",
      "\n",
      "Classification Report:\n",
      "              precision    recall  f1-score   support\n",
      "\n",
      "           0       0.94      0.98      0.96      7582\n",
      "           1       0.98      0.94      0.96      8541\n",
      "\n",
      "    accuracy                           0.96     16123\n",
      "   macro avg       0.96      0.96      0.96     16123\n",
      "weighted avg       0.96      0.96      0.96     16123\n",
      "\n"
     ]
    }
   ],
   "source": [
    "# Predict and analyze\n",
    "y_pred_prob = model.predict(X_test)\n",
    "y_pred = (y_pred_prob > 0.5).astype(\"int32\")\n",
    "\n",
    "print(\"\\nConfusion Matrix:\")\n",
    "print(confusion_matrix(y_test, y_pred))\n",
    "print(\"\\nClassification Report:\")\n",
    "print(classification_report(y_test, y_pred))"
   ]
  },
  {
   "cell_type": "code",
   "execution_count": 9,
   "id": "b386f147",
   "metadata": {},
   "outputs": [
    {
     "data": {
      "image/png": "[encoded data removed]",
      "text/plain": [
       "<Figure size 640x480 with 1 Axes>"
      ]
     },
     "metadata": {},
     "output_type": "display_data"
    }
   ],
   "source": [
    "# Plot accuracy\n",
    "plt.plot(history.history['accuracy'], label='Train Accuracy')\n",
    "plt.plot(history.history['val_accuracy'], label='Validation Accuracy')\n",
    "plt.xlabel('Epoch')\n",
    "plt.ylabel('Accuracy')\n",
    "plt.title('Training vs Validation Accuracy')\n",
    "plt.legend()\n",
    "plt.grid(True)\n",
    "plt.show()"
   ]
  },
  {
   "cell_type": "code",
   "execution_count": 23,
   "id": "d3d44493",
   "metadata": {},
   "outputs": [
    {
     "name": "stdout",
     "output_type": "stream",
     "text": [
      "Phishing Probability: 0.3032\n",
      "Predicted Label: Legitimate\n"
     ]
    }
   ],
   "source": [
    "import re\n",
    "from tensorflow.keras.preprocessing.sequence import pad_sequences\n",
    "\n",
    "\n",
    "def clean_text(text):\n",
    "    text = text.lower()\n",
    "    text = re.sub(r'<.*?>', '', text)\n",
    "    text = re.sub(r'[^a-z0-9\\s]', '', text)\n",
    "    text = re.sub(r'\\s+', ' ', text).strip()\n",
    "    return text\n",
    "\n",
    "# Sample email content\n",
    "sample_email = \"\"\"\n",
    "Dear Students,\n",
    "\n",
    "\n",
    "The Capital University of Science & Technology (CUST), Islamabad, is thrilled to invite you to the 10th ExcITe Cup and CUST Hackathon 2025, a national-level competition celebrating innovation, technology, and talent. This event offers a platform for students across Pakistan to showcase their skills, compete in diverse challenges, and network with peers and industry professionals.\n",
    "\n",
    "Hackathon 2025: AI for Sustainable Future:\n",
    "A platform to showcase innovative solutions using Artificial Intelligence to address sustainability challenges.  \n",
    "\n",
    "10th ExcITe Cup 2025:\n",
    "A national competition featuring a variety of challenges to test your skills and creativity:\n",
    "\n",
    "\n",
    "On Spot Programming\n",
    "\n",
    "Quiz Competition\n",
    "\n",
    "Software Project Exhibition\n",
    "\n",
    "On Spot Poster Design\n",
    "\n",
    "E-Gaming (FIFA 19 & Tekken 7)\n",
    "\n",
    "Table Tennis\n",
    "\n",
    "Thematic Video Design\n",
    "\n",
    "📅 Event Dates:\n",
    "\n",
    "10th ExcITe Cup: Saturday, May 17, 2025\n",
    "\n",
    "Hackathon 2025: Friday, May 16, 2025 (Online)\n",
    "                             Saturday, May 17, 2025 (On Campus)                                                                                                                                                             (Note: Hackathon is a separate event; please register accordingly.)\n",
    "\n",
    "💰 Registration Details:\n",
    "\n",
    "10th ExcITe Cup:\n",
    "\n",
    "Individual Competitions: Rs. 1,500 each\n",
    "\n",
    "Team Competitions: Rs. 4,000 per team\n",
    "\n",
    "Hackathon 2025:\n",
    "\n",
    "Rs. 5,000 per team\n",
    "\n",
    "Rs. 2,000 per person\n",
    "\n",
    "Registration Deadline: 10th May, 2025\n",
    "Step 1: Register Now \n",
    "             ExcITe Cup 2025 Registration Form: https://docs.google.com/forms/d/e/1FAIpQLSfi3amvhFoot_QjotdlDLd7XRR3c_BvzHLQc8dz8rg20IpHsg/viewform \n",
    "             Hackathon 2025 Registration Form: https://docs.google.com/forms/d/e/1FAIpQLSfpKqds0cCbh9bEaf8cuhM6zwoJ4UIrsUYn5r8AEmdOFSjVOw/viewform\n",
    "Step 2: After registration at the competition fill out this form for transport provision by FUI: https://forms.gle/VPvrE7UPvTVYdf1A7\n",
    "               (To be filled by Team Lead only)\n",
    "\n",
    "We highly encourage early registration to ensure smooth coordination and necessary arrangements. Don't miss this opportunity to challenge yourself, network with peers, and showcase your talents. Looking forward to your enthusiastic participation!  \n",
    "Thank you\n",
    "\n",
    "Best Regards,\n",
    "\n",
    "--\n",
    "Maria Saddiqua\n",
    "\n",
    " Lecturer Software Engineering Department\n",
    "\n",
    " Foundation University Islamabad\n",
    "\n",
    " NewLalazar, Rawalpindi\n",
    "\n",
    " Email:  maria.siddique@fui.edu.pk\n",
    "\n",
    "\"\"\"\n",
    "\n",
    "\n",
    "cleaned = clean_text(sample_email)\n",
    "\n",
    "\n",
    "seq = tokenizer.texts_to_sequences([cleaned])\n",
    "\n",
    "\n",
    "padded = pad_sequences(seq, maxlen=max_seq_length, padding='post')\n",
    "\n",
    "\n",
    "prediction = model.predict(padded, verbose=0)\n",
    "\n",
    "\n",
    "phishing_probability = prediction[0][0]\n",
    "predicted_label = \"Phishing\" if phishing_probability >= 0.5 else \"Legitimate\"\n",
    "\n",
    "\n",
    "print(f\"Phishing Probability: {phishing_probability:.4f}\")\n",
    "print(f\"Predicted Label: {predicted_label}\")\n"
   ]
  },
  {
   "cell_type": "code",
   "execution_count": 24,
   "id": "918e5c64",
   "metadata": {},
   "outputs": [
    {
     "name": "stderr",
     "output_type": "stream",
     "text": [
      "WARNING:absl:You are saving your model as an HDF5 file via `model.save()` or `keras.saving.save_model(model)`. This file format is considered legacy. We recommend using instead the native Keras format, e.g. `model.save('my_model.keras')` or `keras.saving.save_model(model, 'my_model.keras')`. \n"
     ]
    }
   ],
   "source": [
    "# Save model\n",
    "model.save(\"phishing_model.h5\")\n",
    "\n",
    "# Save tokenizer\n",
    "import pickle\n",
    "with open(\"tokenizer.pkl\", \"wb\") as f:\n",
    "    pickle.dump(tokenizer, f)\n",
    "\n",
    "# Save max_seq_length too (you need it for padding during prediction)\n",
    "import json\n",
    "with open(\"config.json\", \"w\") as f:\n",
    "    json.dump({\"max_seq_length\": max_seq_length}, f)\n"
   ]
  },
  {
   "cell_type": "code",
   "execution_count": null,
   "id": "b7cde151",
   "metadata": {},
   "outputs": [],
   "source": []
  }
 ],
 "metadata": {
  "kernelspec": {
   "display_name": "Python 3",
   "language": "python",
   "name": "python3"
  },
  "language_info": {
   "codemirror_mode": {
    "name": "ipython",
    "version": 3
   },
   "file_extension": ".py",
   "mimetype": "text/x-python",
   "name": "python",
   "nbconvert_exporter": "python",
   "pygments_lexer": "ipython3",
   "version": "3.12.6"
  }
 },
 "nbformat": 4,
 "nbformat_minor": 5
}
